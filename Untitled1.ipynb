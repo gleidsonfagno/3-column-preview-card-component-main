{
  "nbformat": 4,
  "nbformat_minor": 0,
  "metadata": {
    "colab": {
      "provenance": [],
      "toc_visible": true,
      "authorship_tag": "ABX9TyPOjGr0nqfb9VaoNihsPOmG",
      "include_colab_link": true
    },
    "kernelspec": {
      "name": "python3",
      "display_name": "Python 3"
    },
    "language_info": {
      "name": "python"
    }
  },
  "cells": [
    {
      "cell_type": "markdown",
      "metadata": {
        "id": "view-in-github",
        "colab_type": "text"
      },
      "source": [
        "<a href=\"https://colab.research.google.com/github/gleidsonfagno/3-column-preview-card-component-main/blob/main/Untitled1.ipynb\" target=\"_parent\"><img src=\"https://colab.research.google.com/assets/colab-badge.svg\" alt=\"Open In Colab\"/></a>"
      ]
    },
    {
      "cell_type": "markdown",
      "source": [
        "1-Variaveis"
      ],
      "metadata": {
        "id": "bDmdthjCg1Wd"
      }
    },
    {
      "cell_type": "code",
      "source": [
        "idade= 30\n",
        "print(idade)\n",
        "\n",
        "nome = \"fagno\"\n",
        "print(nome)\n"
      ],
      "metadata": {
        "colab": {
          "base_uri": "https://localhost:8080/"
        },
        "id": "RcJXXd1HhTtz",
        "outputId": "18fc58d5-05f1-4e82-daa4-702d05a5d4ec"
      },
      "execution_count": null,
      "outputs": [
        {
          "output_type": "stream",
          "name": "stdout",
          "text": [
            "30\n",
            "fagno\n"
          ]
        }
      ]
    },
    {
      "cell_type": "markdown",
      "source": [
        "2.2. Tipos de dados\n",
        "Tipos numericos: interiros (int) e decimais (float):"
      ],
      "metadata": {
        "id": "frKOfXZ6h4tX"
      }
    },
    {
      "cell_type": "code",
      "source": [
        "preco = 1000\n",
        "tipo_preco = type(preco)\n",
        "\n",
        "print(preco)\n",
        "print(tipo_preco)\n",
        "\n",
        "juros = 9.5\n",
        "tipo_juros = type(juros)\n",
        "\n",
        "print(juros)\n",
        "print(tipo_juros)\n",
        "\n",
        "preco = 1000\n",
        "print(type(preco))"
      ],
      "metadata": {
        "colab": {
          "base_uri": "https://localhost:8080/"
        },
        "id": "vUCZfPx-K-Sf",
        "outputId": "0fc6ba9a-35ff-4aef-8491-051b4738a8ab"
      },
      "execution_count": null,
      "outputs": [
        {
          "output_type": "stream",
          "name": "stdout",
          "text": [
            "1000\n",
            "<class 'int'>\n",
            "9.5\n",
            "<class 'float'>\n",
            "<class 'int'>\n"
          ]
        }
      ]
    },
    {
      "cell_type": "markdown",
      "source": [
        "Tipos de texto: strings(str)"
      ],
      "metadata": {
        "id": "MK9mToUYLvUT"
      }
    },
    {
      "cell_type": "markdown",
      "source": [
        "t"
      ],
      "metadata": {
        "id": "YevV4qdLLup7"
      }
    },
    {
      "cell_type": "code",
      "source": [
        "primeiro_nome = \"fagno\"\n",
        "tipo_primeironome = type(primeiro_nome)\n",
        "\n",
        "print(type(primeiro_nome))\n",
        "print(tipo_primeironome)"
      ],
      "metadata": {
        "colab": {
          "base_uri": "https://localhost:8080/"
        },
        "id": "04z9m7mWL9Uw",
        "outputId": "1ad40f21-bd20-43c4-a632-80989c8f5d10"
      },
      "execution_count": null,
      "outputs": [
        {
          "output_type": "stream",
          "name": "stdout",
          "text": [
            "<class 'str'>\n",
            "<class 'str'>\n"
          ]
        }
      ]
    },
    {
      "cell_type": "markdown",
      "source": [
        "Tipos logicos: booleanos(bool);"
      ],
      "metadata": {
        "id": "qKFg8lZMQ7cN"
      }
    },
    {
      "cell_type": "code",
      "source": [
        "usuario_maior_de_idade = False\n",
        "print(usuario_maior_de_idade)\n",
        "print(type(usuario_maior_de_idade))\n"
      ],
      "metadata": {
        "colab": {
          "base_uri": "https://localhost:8080/"
        },
        "id": "-MyR7GVPUjD0",
        "outputId": "31b1937c-82e1-4fee-94bb-c36363195130"
      },
      "execution_count": null,
      "outputs": [
        {
          "output_type": "stream",
          "name": "stdout",
          "text": [
            "False\n",
            "<class 'bool'>\n"
          ]
        }
      ]
    },
    {
      "cell_type": "markdown",
      "source": [
        "Tipo vazio(NoneType):"
      ],
      "metadata": {
        "id": "GzouVjRAVMNc"
      }
    },
    {
      "cell_type": "code",
      "source": [
        "telefone_fixo =None\n",
        "print(telefone_fixo)\n",
        "print(type(telefone_fixo))\n"
      ],
      "metadata": {
        "colab": {
          "base_uri": "https://localhost:8080/"
        },
        "id": "zOztewoFVVhs",
        "outputId": "c908e382-e708-4a53-cfc0-3490792760bd"
      },
      "execution_count": null,
      "outputs": [
        {
          "output_type": "stream",
          "name": "stdout",
          "text": [
            "None\n",
            "<class 'NoneType'>\n"
          ]
        }
      ]
    },
    {
      "cell_type": "markdown",
      "source": [
        "Numeros\n"
      ],
      "metadata": {
        "id": "x0F1B_xIXfZs"
      }
    },
    {
      "cell_type": "code",
      "source": [
        "qtd_items_carrinho_compra = 0\n",
        "qtd_items_carrinho_compra = qtd_items_carrinho_compra + 1\n",
        "print(qtd_items_carrinho_compra)\n",
        "qtd_items_carrinho_compra = qtd_items_carrinho_compra + 1\n",
        "print(qtd_items_carrinho_compra)\n"
      ],
      "metadata": {
        "id": "KwFiLhFjXo0V",
        "outputId": "fe873245-366f-40b3-dad2-8beffaa537ee",
        "colab": {
          "base_uri": "https://localhost:8080/"
        }
      },
      "execution_count": null,
      "outputs": [
        {
          "output_type": "stream",
          "name": "stdout",
          "text": [
            "1\n",
            "2\n"
          ]
        }
      ]
    },
    {
      "cell_type": "code",
      "source": [
        "\n",
        "qtd_items_carrinho_compra = 0\n",
        "qtd_items_carrinho_compra += 1\n",
        "print(qtd_items_carrinho_compra)\n",
        "qtd_items_carrinho_compra += 1\n",
        "print(qtd_items_carrinho_compra)"
      ],
      "metadata": {
        "colab": {
          "base_uri": "https://localhost:8080/"
        },
        "id": "U0KGKzBKzp1z",
        "outputId": "ea3bcede-6233-42f4-db8d-8c520814b473"
      },
      "execution_count": null,
      "outputs": [
        {
          "output_type": "stream",
          "name": "stdout",
          "text": [
            "1\n",
            "2\n"
          ]
        }
      ]
    },
    {
      "cell_type": "code",
      "source": [
        "a = 3\n",
        "b = 2\n",
        "c = a / b\n",
        "print(c)\n",
        "print(type(c))\n",
        "d = a // b\n",
        "print(d)\n",
        "print(type(d))\n"
      ],
      "metadata": {
        "colab": {
          "base_uri": "https://localhost:8080/"
        },
        "id": "RBw9sAmy03gH",
        "outputId": "a6e06368-11fc-457d-f87c-c35a1f78bf92"
      },
      "execution_count": null,
      "outputs": [
        {
          "output_type": "stream",
          "name": "stdout",
          "text": [
            "1.5\n",
            "<class 'float'>\n",
            "1\n",
            "<class 'int'>\n"
          ]
        }
      ]
    },
    {
      "cell_type": "markdown",
      "source": [
        "3.4. Conversão\n",
        "Podemos converter os tipos numéricos entre si utilizando o método nativo int , float e \n",
        "complex :"
      ],
      "metadata": {
        "id": "hR6aZzwb0Z0J"
      }
    },
    {
      "cell_type": "code",
      "source": [
        "print(int(3.9))\n",
        "print(float(10))\n",
        "print(complex(1))\n"
      ],
      "metadata": {
        "colab": {
          "base_uri": "https://localhost:8080/"
        },
        "id": "JDUIhn6r0bbL",
        "outputId": "94b81840-9d6c-4ea0-d4a9-b0738632c6a6"
      },
      "execution_count": null,
      "outputs": [
        {
          "output_type": "stream",
          "name": "stdout",
          "text": [
            "3\n",
            "10.0\n",
            "(1+0j)\n"
          ]
        }
      ]
    },
    {
      "cell_type": "markdown",
      "source": [
        "4. Strings"
      ],
      "metadata": {
        "id": "Xt7Xfct84pfp"
      }
    },
    {
      "cell_type": "code",
      "source": [
        "lat = '-22.005320'\n",
        "log = '47.891040'\n",
        "\n",
        "laton = lat + log\n",
        "print(laton)"
      ],
      "metadata": {
        "colab": {
          "base_uri": "https://localhost:8080/"
        },
        "id": "EjT8lDf75u5g",
        "outputId": "dc3b4c9d-5516-48ca-873a-fb343104aa97"
      },
      "execution_count": null,
      "outputs": [
        {
          "output_type": "stream",
          "name": "stdout",
          "text": [
            "-22.00532047.891040\n"
          ]
        }
      ]
    },
    {
      "cell_type": "code",
      "source": [
        "nome = \"gleidson\"\n",
        "sobrenome = \"fagno\"\n",
        "\n",
        "apresentacao = f'ola {nome} {sobrenome}';\n",
        "apresentacao1 = nome + sobrenome\n",
        "\n",
        "print(apresentacao1)\n",
        "print(str(apresentacao))\n",
        "print(nome)"
      ],
      "metadata": {
        "colab": {
          "base_uri": "https://localhost:8080/"
        },
        "id": "yYjvPVgb6WEc",
        "outputId": "4a67ee85-71b7-4f19-ef02-b62842918672"
      },
      "execution_count": null,
      "outputs": [
        {
          "output_type": "stream",
          "name": "stdout",
          "text": [
            "gleidsonfagno\n",
            "ola gleidson fagno\n",
            "gleidson\n"
          ]
        }
      ]
    },
    {
      "cell_type": "markdown",
      "source": [
        "Fatiamento fixo\n"
      ],
      "metadata": {
        "id": "wUooRfS3Sspz"
      }
    },
    {
      "cell_type": "code",
      "source": [
        "email = \"gleidsonfagno@gmail.com\"\n",
        "\n",
        "print( \"normal: \" + email[0])\n",
        "print( email[11])\n",
        "\n",
        "print( \"de tras para frente: \" + email[-0])\n",
        "print( email[-1])"
      ],
      "metadata": {
        "colab": {
          "base_uri": "https://localhost:8080/"
        },
        "id": "5Xpw7SNNSwtT",
        "outputId": "45994473-5da0-4bde-9f53-dcf7da303b46"
      },
      "execution_count": null,
      "outputs": [
        {
          "output_type": "stream",
          "name": "stdout",
          "text": [
            "normal: g\n",
            "n\n",
            "de tras para frente: g\n",
            "m\n"
          ]
        }
      ]
    },
    {
      "cell_type": "markdown",
      "source": [
        "Fatiamento por intervalo"
      ],
      "metadata": {
        "id": "H1Aiubq3UKgT"
      }
    },
    {
      "cell_type": "code",
      "source": [
        "email_usuario = email[0:13]\n",
        "print(email_usuario)\n",
        "\n",
        "email_provedor = email[13:30]\n",
        "print(email_provedor)"
      ],
      "metadata": {
        "colab": {
          "base_uri": "https://localhost:8080/"
        },
        "id": "VkyfSD50USq2",
        "outputId": "6cb2bb02-7b8f-46bb-f7c6-6d5406ae5dd8"
      },
      "execution_count": null,
      "outputs": [
        {
          "output_type": "stream",
          "name": "stdout",
          "text": [
            "gleidsonfagno\n",
            "@gmail.com\n"
          ]
        }
      ]
    },
    {
      "cell_type": "markdown",
      "source": [
        "METODOS \n",
        "\n"
      ],
      "metadata": {
        "id": "ISjL5OM_XYvO"
      }
    },
    {
      "cell_type": "code",
      "source": [
        "endereco = 'Avenida Paulista, 1811, São Paulo, São Paulo, Brasil.'\n",
        "\n",
        "# maiusculo: string.upper()\n",
        "print(endereco.upper())\n",
        "\n",
        "\n",
        "# posicao: string.find(substring)\n",
        "posicao = endereco.find('Brasil')\n",
        "print(posicao)\n",
        "\n",
        "\n",
        "\n",
        "# substituição: string.replace(antigo, novo)\n",
        "print(endereco.replace('Avenida', 'Av'))\n"
      ],
      "metadata": {
        "colab": {
          "base_uri": "https://localhost:8080/"
        },
        "id": "WTEXSujnXbal",
        "outputId": "18dcb6c1-3aa8-4974-df8a-1adf1cb646bb"
      },
      "execution_count": null,
      "outputs": [
        {
          "output_type": "stream",
          "name": "stdout",
          "text": [
            "AVENIDA PAULISTA, 1811, SÃO PAULO, SÃO PAULO, BRASIL.\n",
            "46\n",
            "Av Paulista, 1811, São Paulo, São Paulo, Brasil.\n"
          ]
        }
      ]
    },
    {
      "cell_type": "markdown",
      "source": [
        "4.5. Conversão\n",
        "Podemos converter strings em tipos numéricos e vice-versa"
      ],
      "metadata": {
        "id": "R6npOVVLYhAC"
      }
    },
    {
      "cell_type": "code",
      "source": [
        "\n",
        "idade = 19\n",
        "print(type(idade))\n",
        "idade = str(idade)\n",
        "print(type(idade))\n",
        "\n",
        "faturamento = 'R$ 35 mi'\n",
        "print(faturamento)\n",
        "print(type(idade))\n",
        "faturamento = int(faturamento[3:5])\n",
        "print(faturamento)\n",
        "print(type(faturamento))\n"
      ],
      "metadata": {
        "colab": {
          "base_uri": "https://localhost:8080/"
        },
        "id": "9vyiDUu1Ynwe",
        "outputId": "c94f25c8-ce5e-412c-ecee-1e2a02399212"
      },
      "execution_count": null,
      "outputs": [
        {
          "output_type": "stream",
          "name": "stdout",
          "text": [
            "<class 'int'>\n",
            "<class 'str'>\n",
            "R$ 35 mi\n",
            "<class 'str'>\n",
            "35\n",
            "<class 'int'>\n"
          ]
        }
      ]
    },
    {
      "cell_type": "markdown",
      "source": [
        "5. Boleanos \n",
        "\n",
        "5.2. Definição\n",
        "Armazenam valores lógicos:\n",
        "True (verdadeiro);\n",
        "False (falso)"
      ],
      "metadata": {
        "id": "hQ7yDVZtfF5-"
      }
    },
    {
      "cell_type": "code",
      "source": [
        "verdadeiro = True\n",
        "print(verdadeiro)\n",
        "\n",
        "falso = False\n",
        "print(falso)\n"
      ],
      "metadata": {
        "colab": {
          "base_uri": "https://localhost:8080/"
        },
        "id": "1LN3L_slfQGz",
        "outputId": "80dd1398-e4ca-4767-e8d7-67d47547d505"
      },
      "execution_count": null,
      "outputs": [
        {
          "output_type": "stream",
          "name": "stdout",
          "text": [
            "True\n",
            "False\n"
          ]
        }
      ]
    },
    {
      "cell_type": "markdown",
      "source": [
        "São resultados de comparações lógicas. Os operadores de comparação lógica são:\n",
        "> (maior);\n",
        "< (menor);\n",
        "== (igual);\n",
        ">= (maior ou igual);\n",
        "<= (menor ou igual);\n",
        "!= (diferente).\n"
      ],
      "metadata": {
        "id": "IK1yEBJafbyU"
      }
    },
    {
      "cell_type": "code",
      "source": [
        "saldo_em_conta = 200\n",
        "valor_do_saque = 100\n",
        "pode_executar_saque = valor_do_saque <= saldo_em_conta\n",
        "print(pode_executar_saque)\n"
      ],
      "metadata": {
        "colab": {
          "base_uri": "https://localhost:8080/"
        },
        "id": "sJRPlYcbfeOH",
        "outputId": "ffdddd59-1891-40ec-8c0d-8c578b3a7544"
      },
      "execution_count": null,
      "outputs": [
        {
          "output_type": "stream",
          "name": "stdout",
          "text": [
            "True\n"
          ]
        }
      ]
    },
    {
      "cell_type": "code",
      "source": [
        "codigo_de_seguranca = '852'\n",
        "codigo_de_seguranca_cadastro = '010'\n",
        "pode_efetuar_pagamento = codigo_de_seguranca == codigo_de_seguranca_cadastro\n",
        "print(pode_efetuar_pagamento)\n"
      ],
      "metadata": {
        "colab": {
          "base_uri": "https://localhost:8080/"
        },
        "id": "bWEea1s-gQLd",
        "outputId": "86884dc6-f219-4c6b-92ac-689a9c102254"
      },
      "execution_count": null,
      "outputs": [
        {
          "output_type": "stream",
          "name": "stdout",
          "text": [
            "False\n"
          ]
        }
      ]
    },
    {
      "cell_type": "markdown",
      "source": [
        "5.3. Operações\n",
        "As operações de variáveis booleanas são:\n",
        "| (operador ou)\n",
        "& (operador e)\n",
        "not (operador não)\n",
        "O conjunto de resultados de operações lógicas geralmente é resumido em uma tabela\n",
        "chamada \"tabela da verdade\":"
      ],
      "metadata": {
        "id": "jzaNDmDpims9"
      }
    },
    {
      "cell_type": "code",
      "source": [
        " #Tabela da verdade do operador | (ou)\n",
        "print(True | True)\n",
        "print(True | False)\n",
        "print(False | False)\n",
        "print(False | True)"
      ],
      "metadata": {
        "colab": {
          "base_uri": "https://localhost:8080/"
        },
        "id": "fMoWIpjEio_3",
        "outputId": "31a002f4-ca6c-4d28-c7e7-d6ddd3bd2cc5"
      },
      "execution_count": null,
      "outputs": [
        {
          "output_type": "stream",
          "name": "stdout",
          "text": [
            "True\n",
            "True\n",
            "False\n",
            "True\n"
          ]
        }
      ]
    },
    {
      "cell_type": "code",
      "source": [
        "#Exemplo: Tabela da verdade do operador & (e).\n",
        "\n",
        "print(True & True)\n",
        "print(True & False)\n",
        "print(False & False)\n",
        "print(False & True)"
      ],
      "metadata": {
        "colab": {
          "base_uri": "https://localhost:8080/"
        },
        "id": "arN8GmMgjN9R",
        "outputId": "9fa89dd1-be87-46c3-e8ee-cfc2a8aabb77"
      },
      "execution_count": null,
      "outputs": [
        {
          "output_type": "stream",
          "name": "stdout",
          "text": [
            "True\n",
            "False\n",
            "False\n",
            "False\n"
          ]
        }
      ]
    },
    {
      "cell_type": "code",
      "source": [
        "#Exemplo: Tabela da verdade do operador not (não).\n",
        "print(not True)\n",
        "print(not False)"
      ],
      "metadata": {
        "colab": {
          "base_uri": "https://localhost:8080/"
        },
        "id": "wjA6rw2xjYQy",
        "outputId": "f0430a09-106d-4a8c-c109-76e531c6ac23"
      },
      "execution_count": null,
      "outputs": [
        {
          "output_type": "stream",
          "name": "stdout",
          "text": [
            "False\n",
            "True\n"
          ]
        }
      ]
    },
    {
      "cell_type": "markdown",
      "source": [
        "5 CONVESAO"
      ],
      "metadata": {
        "id": "nVaZqY2yj_LD"
      }
    },
    {
      "cell_type": "code",
      "source": [
        "idade = 19\n",
        "tipo_sangue = 'O-'\n",
        "filhos = 0\n",
        "telefone_fixo = None\n",
        "telefone_fixo = ''\n",
        "print(bool(idade))\n",
        "print(bool(tipo_sangue))\n",
        "print(bool(filhos))\n",
        "print(bool(telefone_fixo))\n",
        "print(bool(telefone_fixo))\n"
      ],
      "metadata": {
        "colab": {
          "base_uri": "https://localhost:8080/"
        },
        "id": "r4YbXbFAkCqd",
        "outputId": "e3b802cb-52e9-489c-de5e-e15047991f60"
      },
      "execution_count": null,
      "outputs": [
        {
          "output_type": "stream",
          "name": "stdout",
          "text": [
            "True\n",
            "True\n",
            "False\n",
            "False\n",
            "False\n"
          ]
        }
      ]
    }
  ]
}